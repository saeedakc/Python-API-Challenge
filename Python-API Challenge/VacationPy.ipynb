{
 "cells": [
  {
   "cell_type": "code",
   "execution_count": null,
   "metadata": {},
   "outputs": [],
   "source": [
    "import os\n",
    "import pandas as pd\n",
    "import matplotlib.pyplot as plt\n",
    "import numpy as np\n",
    "import requests\n",
    "import gmaps\n",
    "import json\n",
    "from api_keys import g_key\n",
    "gmaps.configure(api_key=g_key)"
   ]
  },
  {
   "cell_type": "code",
   "execution_count": null,
   "metadata": {},
   "outputs": [],
   "source": [
    "cities = pd.read_csv(\"output_data/cities.csv\", encoding=\"utf-8\")\n",
    "cities.head()"
   ]
  },
  {
   "cell_type": "code",
   "execution_count": null,
   "metadata": {},
   "outputs": [],
   "source": [
    "# Humidity Heat Map\n",
    "\n",
    "humidity = cities[\"Humidity\"].astype(float)\n",
    "maxhumidity = humidity.max()\n",
    "locations = cities[[\"Lat\", \"Lng\"]]"
   ]
  },
  {
   "cell_type": "code",
   "execution_count": null,
   "metadata": {},
   "outputs": [],
   "source": [
    "fig = gmaps.figure()\n",
    "heat_layer = gmaps.heatmap_layer(locations, weights=humidity,dissipating=False, max_intensity=maxhumidity,point_radius=3)\n",
    "fig.add_layer(heat_layer)\n",
    "fig"
   ]
  },
  {
   "cell_type": "code",
   "execution_count": null,
   "metadata": {},
   "outputs": [],
   "source": [
    "# Create new DataFrame fitting weather criteria\n",
    "\n",
    "narrowed_city_df = cities.loc[(cities[\"Max Temp\"] > 70) & (cities[\"Max Temp\"] < 80) & (cities[\"Cloudiness\"] == 0), :]\n",
    "narrowed_city_df = narrowed_city_df.dropna(how='any')\n",
    "narrowed_city_df.reset_index(inplace=True)\n",
    "del narrowed_city_df['index']\n",
    "narrowed_city_df.head()"
   ]
  },
  {
   "cell_type": "code",
   "execution_count": null,
   "metadata": {},
   "outputs": [],
   "source": [
    "# Hotel Map\n",
    "\n",
    "hotellist = []\n",
    "\n",
    "for i in range(len(narrowed_city_df)):\n",
    "    lat = narrowed_city_df.loc[i]['Lat']\n",
    "    lng = narrowed_city_df.loc[i]['Lng']\n",
    "\n",
    "    params = {\n",
    "        \"location\": f\"{lat},{lng}\",\n",
    "        \"radius\": 5000,\n",
    "        \"types\" : \"hotel\",\n",
    "        \"key\": g_key\n",
    "    }\n",
    "    \n",
    "    base_url = \"https://maps.googleapis.com/maps/api/place/nearbysearch/json\"\n",
    "    requested = requests.get(base_url, params=params)\n",
    "    jsn = requested.json()\n",
    "    try:\n",
    "        hotellist.append(jsn['results'][0]['name'])\n",
    "    except:\n",
    "        hotellist.append(\"\")\n",
    "narrowed_city_df[\"Hotel Name\"] = hotellist\n",
    "narrowed_city_df = narrowed_city_df.dropna(how='any')\n",
    "narrowed_city_df.head()"
   ]
  },
  {
   "cell_type": "code",
   "execution_count": null,
   "metadata": {},
   "outputs": [],
   "source": [
    "# NOTE: Do not change any of the code in this cell\n",
    "\n",
    "# Using the template add the hotel marks to the heatmap\n",
    "info_box_template = \"\"\"\n",
    "<dl>\n",
    "<dt>Name</dt><dd>{Hotel Name}</dd>\n",
    "<dt>City</dt><dd>{City}</dd>\n",
    "<dt>Country</dt><dd>{Country}</dd>\n",
    "</dl>\n",
    "\"\"\"\n",
    "# Store the DataFrame Row\n",
    "# NOTE: be sure to update with your DataFrame name\n",
    "hotel_info = [info_box_template.format(**row) for index, row in narrowed_city_df.iterrows()]\n",
    "locations = narrowed_city_df[[\"Lat\", \"Lng\"]]"
   ]
  },
  {
   "cell_type": "code",
   "execution_count": null,
   "metadata": {},
   "outputs": [],
   "source": [
    "\n",
    "markers = gmaps.marker_layer(locations)\n",
    "fig.add_layer(markers)\n",
    "fig"
   ]
  }
 ],
 "metadata": {
  "kernelspec": {
   "display_name": "Python 3",
   "language": "python",
   "name": "python3"
  },
  "language_info": {
   "codemirror_mode": {
    "name": "ipython",
    "version": 3
   },
   "file_extension": ".py",
   "mimetype": "text/x-python",
   "name": "python",
   "nbconvert_exporter": "python",
   "pygments_lexer": "ipython3",
   "version": "3.7.3"
  }
 },
 "nbformat": 4,
 "nbformat_minor": 2
}
